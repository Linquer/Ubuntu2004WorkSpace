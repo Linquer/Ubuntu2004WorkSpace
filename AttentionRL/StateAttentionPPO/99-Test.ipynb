{
 "cells": [
  {
   "cell_type": "code",
   "execution_count": 2,
   "metadata": {},
   "outputs": [],
   "source": [
    "import gym"
   ]
  },
  {
   "cell_type": "code",
   "execution_count": 3,
   "metadata": {},
   "outputs": [
    {
     "name": "stderr",
     "output_type": "stream",
     "text": [
      "/home/wyq/anaconda3/lib/python3.9/site-packages/gym/envs/registration.py:505: UserWarning: \u001b[33mWARN: The environment SpaceInvaders-v0 is out of date. You should consider upgrading to version `v5` with the environment ID `ALE/SpaceInvaders-v5`.\u001b[0m\n",
      "  logger.warn(\n",
      "A.L.E: Arcade Learning Environment (version +a7a216c)\n",
      "[Powered by Stella]\n",
      "/home/wyq/anaconda3/lib/python3.9/site-packages/gym/utils/seeding.py:138: DeprecationWarning: \u001b[33mWARN: Function `hash_seed(seed, max_bytes)` is marked as deprecated and will be removed in the future. \u001b[0m\n",
      "  deprecation(\n",
      "/home/wyq/anaconda3/lib/python3.9/site-packages/gym/utils/seeding.py:175: DeprecationWarning: \u001b[33mWARN: Function `_bigint_from_bytes(bytes)` is marked as deprecated and will be removed in the future. \u001b[0m\n",
      "  deprecation(\n"
     ]
    }
   ],
   "source": [
    "env = gym.make(\"SpaceInvaders-v0\")"
   ]
  },
  {
   "cell_type": "code",
   "execution_count": 9,
   "metadata": {},
   "outputs": [
    {
     "data": {
      "text/plain": [
       "array([[[ 0,  0,  0],\n",
       "        [ 0,  0,  0],\n",
       "        [ 0,  0,  0],\n",
       "        ...,\n",
       "        [ 0,  0,  0],\n",
       "        [ 0,  0,  0],\n",
       "        [ 0,  0,  0]],\n",
       "\n",
       "       [[ 0,  0,  0],\n",
       "        [ 0,  0,  0],\n",
       "        [ 0,  0,  0],\n",
       "        ...,\n",
       "        [ 0,  0,  0],\n",
       "        [ 0,  0,  0],\n",
       "        [ 0,  0,  0]],\n",
       "\n",
       "       [[ 0,  0,  0],\n",
       "        [ 0,  0,  0],\n",
       "        [ 0,  0,  0],\n",
       "        ...,\n",
       "        [ 0,  0,  0],\n",
       "        [ 0,  0,  0],\n",
       "        [ 0,  0,  0]],\n",
       "\n",
       "       ...,\n",
       "\n",
       "       [[80, 89, 22],\n",
       "        [80, 89, 22],\n",
       "        [80, 89, 22],\n",
       "        ...,\n",
       "        [80, 89, 22],\n",
       "        [80, 89, 22],\n",
       "        [80, 89, 22]],\n",
       "\n",
       "       [[80, 89, 22],\n",
       "        [80, 89, 22],\n",
       "        [80, 89, 22],\n",
       "        ...,\n",
       "        [80, 89, 22],\n",
       "        [80, 89, 22],\n",
       "        [80, 89, 22]],\n",
       "\n",
       "       [[80, 89, 22],\n",
       "        [80, 89, 22],\n",
       "        [80, 89, 22],\n",
       "        ...,\n",
       "        [80, 89, 22],\n",
       "        [80, 89, 22],\n",
       "        [80, 89, 22]]], dtype=uint8)"
      ]
     },
     "execution_count": 9,
     "metadata": {},
     "output_type": "execute_result"
    }
   ],
   "source": [
    "unwrapped_env = env.unwrapped"
   ]
  },
  {
   "cell_type": "code",
   "execution_count": 10,
   "metadata": {},
   "outputs": [
    {
     "data": {
      "text/plain": [
       "array([  0,   7,   0,  68, 241, 162,  34, 183,  68,  13, 124, 255, 255,\n",
       "        50, 255, 255,   0,  36,  63,  63,  63,  63,  63,  63,  82,   0,\n",
       "        23,  43,  35, 117, 180,   0,  36,  63,  63,  63,  63,  63,  63,\n",
       "       110,   0,  23,   1,  60, 126, 126, 126, 126, 255, 255, 255, 195,\n",
       "        60, 126, 126, 126, 126, 255, 255, 255, 195,  60, 126, 126, 126,\n",
       "       126, 255, 255, 255, 195,   0,   0,  48,   3, 129,   0,   0,   0,\n",
       "         0,   0,   0, 246, 246,  63,  63, 246, 246,  63,  63,   0,  21,\n",
       "        24,   0,  52,  82, 196, 246,  20,   7,   0, 226,   0,   0,   0,\n",
       "         0,   0,  21,  63,   0, 128, 171,   0, 255,   0, 189,   0,   0,\n",
       "         0,   0,   0,  99, 255,   0,   0, 235, 254, 192, 242], dtype=uint8)"
      ]
     },
     "execution_count": 10,
     "metadata": {},
     "output_type": "execute_result"
    }
   ],
   "source": [
    "env.reset()\n",
    "initial_ram_state = unwrapped_env.ale.getRAM()\n",
    "initial_ram_state"
   ]
  },
  {
   "cell_type": "code",
   "execution_count": 13,
   "metadata": {},
   "outputs": [
    {
     "name": "stderr",
     "output_type": "stream",
     "text": [
      "/home/wyq/anaconda3/lib/python3.9/site-packages/gym/utils/seeding.py:47: DeprecationWarning: \u001b[33mWARN: Function `rng.randint(low, [high, size, dtype])` is marked as deprecated and will be removed in the future. Please use `rng.integers(low, [high, size, dtype])` instead.\u001b[0m\n",
      "  deprecation(\n"
     ]
    },
    {
     "data": {
      "text/plain": [
       "array([  0,   7,   0,  68, 241, 162,  34, 183,  68,  13, 124, 255, 255,\n",
       "        50, 255, 255,   0,  36,  63,  63,  63,  63,  63,  63,  82,   0,\n",
       "        23,  43,  35, 117, 180,   0,  36,  63,  63,  63,  63,  63,  63,\n",
       "       110,   0,  23,   1,  60, 126, 126, 126, 126, 255, 255, 255, 195,\n",
       "        60, 126, 126, 126, 126, 255, 255, 255, 195,  60, 126, 126, 126,\n",
       "       126, 255, 255, 255, 195,   0,   0, 112,   3, 121,   0,   0,   0,\n",
       "         0,   0,   0, 246, 246,  63,  63, 246, 246,  63,  63,   0, 129,\n",
       "        24,   0,  52,  82, 196, 246,  20,   7,   0, 226,   0,   0,   0,\n",
       "         0,   0, 129,  63,   0,   1, 171,   0, 255,   0, 189,   0,   0,\n",
       "         0,   0,   0,  99, 255,   0,   0, 235, 254, 192, 242], dtype=uint8)"
      ]
     },
     "execution_count": 13,
     "metadata": {},
     "output_type": "execute_result"
    }
   ],
   "source": [
    "action = env.action_space.sample()\n",
    "next_state, reward, done, info = env.step(action)\n",
    "next_ram_state1 = unwrapped_env.ale.getRAM()\n",
    "next_ram_state1"
   ]
  },
  {
   "cell_type": "code",
   "execution_count": 14,
   "metadata": {},
   "outputs": [
    {
     "data": {
      "text/plain": [
       "array([  0,   7,   0,  68, 241, 162,  34, 183,  68,  13, 124, 255, 255,\n",
       "        50, 255, 255,   0,  36,  63,  63,  63,  63,  63,  63,  82,   0,\n",
       "        23,  43,  35, 117, 180,   0,  36,  63,  63,  63,  63,  63,  63,\n",
       "       110,   0,  23,   1,  60, 126, 126, 126, 126, 255, 255, 255, 195,\n",
       "        60, 126, 126, 126, 126, 255, 255, 255, 195,  60, 126, 126, 126,\n",
       "       126, 255, 255, 255, 195,   0,   0, 176,   3, 119,   0,   0,   0,\n",
       "         0,   0,   0, 246, 246,  63,  63, 246, 246,  63,  63,   0, 222,\n",
       "        24,   0,  52,  82, 196, 246,  20,   7,   0, 226,   0,   0,   0,\n",
       "         0,   0, 222,  63,   0,   1, 171,   0, 255,   0, 189,   0,   0,\n",
       "         0,   0,   0,  99, 255,   0,   0, 235, 254, 192, 242], dtype=uint8)"
      ]
     },
     "execution_count": 14,
     "metadata": {},
     "output_type": "execute_result"
    }
   ],
   "source": [
    "next_state, reward, done, info = env.step(action)\n",
    "next_ram_state = unwrapped_env.ale.getRAM()\n",
    "next_ram_state"
   ]
  },
  {
   "cell_type": "code",
   "execution_count": null,
   "metadata": {},
   "outputs": [],
   "source": []
  }
 ],
 "metadata": {
  "kernelspec": {
   "display_name": "base",
   "language": "python",
   "name": "python3"
  },
  "language_info": {
   "codemirror_mode": {
    "name": "ipython",
    "version": 3
   },
   "file_extension": ".py",
   "mimetype": "text/x-python",
   "name": "python",
   "nbconvert_exporter": "python",
   "pygments_lexer": "ipython3",
   "version": "3.9.12"
  }
 },
 "nbformat": 4,
 "nbformat_minor": 2
}
